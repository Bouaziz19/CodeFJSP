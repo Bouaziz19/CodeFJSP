# %%
import gurobipy as gp
from gurobipy import *

from pyomo.environ import *
from pyomo.gdp import *
import numpy as np

# import pandas as pd 
# import matplotlib.pyplot as plt
# plt.style.use('ggplot')



# %%
# n = [11,12,13,14,15,21]
# m = ['H','R','Co']

# t_ijk =  {
#     (11,'H'):145, (12,'H'):12, (13,'H'):14, (14,'H'):11, (15,'H'):130, (21,'H'):114, 
#     (11,'R'):217, (12,'R'):18, (13,'R'):21, (14,'R'):16, (15,'R'):195, (21,'R'):171,
#     (11,'Co'):181, (12,'Co'):15, (13,'Co'):17, (14,'Co'):13, (15,'Co'):162, (21,'Co'):142
#     }

# w_ijk = {
#     (11,'H'):2, (12,'H'):4, (13,'H'):3, (14,'H'):4, (15,'H'):2, (21,'H'):6, 
#     (11,'R'):6, (12,'R'):1, (13,'R'):6, (14,'R'):5, (15,'R'):6, (21,'R'):3,
#     (11,'Co'):4, (12,'Co'):4, (13,'Co'):5, (14,'Co'):3, (15,'Co'):4, (21,'Co'):4
#     }

# p = {
#     None,    0,    1,    1,    0,    1,
#    0,   None,    1,    1,    0,    1,
#    0,    0,   None,    1,    0,    1,
#    0,    0,    0,   None,    0,    1,
#    0,    0,    0,    0,   None,    1,
#    0,    0,    0,    0,    0,   None 
#     }

# p = np.array ( 
#   [None,    0,    1,    1,    0,    1,
#    0,   None,    1,    1,    0,    1,
#    0,    0,   None,    1,    0,    1,
#    0,    0,    0,   None,    0,    1,
#    0,    0,    0,    0,   None,    1,
#    0,    0,    0,    0,    0,   None ])

M = 10000000
# L = 500
alpha = 0.5
beta = 0.5

# %%
# for cle, valeur in t_ijk.items():
#     print("la durée de l'opération", cle, "est de :", valeur, "secondes")

# %%
model = AbstractModel()

# %%
################################ SETS ################################

# model.K = Set(initialize=m)
# model.T = Set(initialize=n)

# model.Pmatrix = Set(initialize=p)

# for Abstract model
model.K = Set()
model.T = Set()

model.O = Set()

# model.T1 = Set()
# model.P = Set()


# %% [markdown]
# 

# %%
################################ PARAMETRES ################################

# model.Duration = Param(model.T, model.K, within=Any, initialize=lambda model, j, m: t_ijk[(j,m)])
# model.Weights = Param(model.T, model.K, within=Any, initialize=lambda model, j, m: w_ijk[(j,m)])

# load p.tab format=set_array: P;

# model.Precedence = Param(model.T, model.T, model.Pmatrix, within=Any, initialize =lambda model, j, i, p: [(j)]+[(i)]+[(p)])

# for Abstract model
model.Duration = Param(model.T, model.O, model.K)


model.Weights = Param(model.T, model.O, model.K)


model.Prec = Param(model.T, model.O, model.T, model.O, within=Any)


# %%
################################ VARIABLES DE DECISION ################################

model.X = Var(model.T, model.O, model.K, domain=Boolean, initialize = 0)


# model.Y = Var(model.P, domain=Binary)
# cmax = Var(within=Integers, bounds=(0,500))
model.CTime = Var(model.T, model.O, model.K, domain=NonNegativeIntegers, initialize = 0.0)


model.Stime = Var(model.T, model.O, model.K, domain=NonNegativeIntegers, initialize = 0.0)


model.Y = Var(model.T, model.O, model.T, model.O, model.K, domain=Boolean, initialize = 0)

# model.Ptime = Param(model.Duration)

# %%
################################ FONCTION OBJECTIF ################################

def obj_rule(model):
    return alpha * sum(model.Duration[t,o,k] * model.X[t,o,k] for t in model.T for o in model.O for k in model.K)\
    + beta * sum(model.Weights[t,o,'H'] * model.X[t,o,'H'] for t in model.T for o in model.O)\

model.objective = Objective(rule=obj_rule, sense=minimize)

# %%
# ############################### FONCTIONS CONTRAINTE ###############################

# Constraint 1 :
# Σ ( X_ijk >= 1)​

def attributedTask_rule(model,t,o):
    return sum(model.X[t,o,k] for k in model.K)>= 1 

model.Constraint1 = Constraint(model.T, model.O, rule = attributedTask_rule)

    
# Constraint Sup :

# def ConstraintXaCo(model,t,o):
#     if model.X[t,o,'Co'] == 1:
#         return model.Duration[t,o,'H'] + model.Duration[t,o,'R'] == 0.0
#     return Constraint.Skip


# model.ConstraintXaCo = Constraint(model.T, model.O, rule = ConstraintXaCo)

# # Constraint 2 :
# # X_ijCo  >= X_ijr + X_ijh -1​

# def allMachWorking_rule(model,t,o):
#     return (model.X[t,o,'Co'] >= (model.X[t,o,'R'] + model.X[t,o,'H'] -1))

# model.Constraint2 = Constraint(model.T, model.O, rule = allMachWorking_rule)



# # Constraint 3 : Supprime les taches collaboratives quand actif
# # X_ijr + X_ijh >= X_ijCo + 1

# def onemachineworkingatleast_rule(model,t,o):
#     return (model.X[t,o,'R'] + model.X[t,o,'H']) >= model.X[t,o,'Co'] + 1

# model.Constraint3 = Constraint(model.T, model.O, rule = onemachineworkingatleast_rule)

# def onemachineworkingatleast_ruleB(model,t,o):
#     return (model.Xb[t,o,'R'] + model.Xb[t,o,'H']) >= model.Xb[t,o,'Co'] + 1

# model.Constraint3B = Constraint(model.Tb, model.Ob, rule = onemachineworkingatleast_ruleB)

# # Constraint 4 : Fonctionne OK
# # X_ijCo <= X_ijr

# def collabOffrobot_ruleA(model,t,o):
#     return model.Xa[t,o,'Co'] <= model.Xa[t,o,'R']

# model.Constraint4A = Constraint(model.Ta, model.Oa, rule = collabOffrobot_ruleA)

# def collabOffrobot_ruleB(model,t,o):
#     return model.Xb[t,o,'Co'] <= model.Xb[t,o,'R']

# model.Constraint4B = Constraint(model.Tb, model.Ob, rule = collabOffrobot_ruleB)

# # Constraint 5 : Fonctionne OK
# # X_ijCo <= X_ijh

# def collabOffhuman_rule(model,t,o):
#     return model.X[t,o,'Co'] <= model.X[t,o,'H']

# model.Constraint5 = Constraint(model.T,model.O, rule = collabOffhuman_rule)


# # Constraint 6 :
# # S_ijk + C_ijk <= (X_ijk) . L

def Timezero_ruleA(model,t,o,k):
    return model.Stime[t,o,k] + model.CTime[t,o,k] <= model.X[t,o,k] * M 

model.Constraint6A = Constraint(model.T, model.O, model.K, rule = Timezero_ruleA)

# def Timezero_ruleB(model,t,o,k):
#     return model.StimeB[t,o,k] >= model.Xb[t,o,k] * M 

# model.Constraint6B = Constraint(model.Tb, model.Ob, model.K, rule = Timezero_ruleB)

# # Constraint 6bis :
# # S_ijk + C_ijk <= (X_ijk) . L

# def Timezero_rule(model,t,o,k):
#     return model.CTime[t,o,k] >= model.X[t,o,k] * M 

# model.Constraint6 = Constraint(model.T, model.O, model.K, rule = Timezero_rule)

# def Timezero_ruleBis(model,t,o,k):
#     return model.CTimeB[t,o,k] >= model.Xb[t,o,k] * M 

# model.Constraint6Bbis = Constraint(model.Tb, model.Ob, model.K, rule = Timezero_ruleBis)

# # Constraint 7 :
# # C_ijk >= S_ijk + t_ijk - (1-X_ijk) . L

# def Prec1_rule(model,t,o,k):
#     return model.CTime[t,o,k] >= model.Stime[t,o,k] + model.Duration[t,o,k] - (1-model.X[t,o,k]) * M

# model.Constraint7 = Constraint(model.T, model.O, model.K, rule = Prec1_rule)



# # Constraint 8 :
# # S_ijk >= C_i'j'k - ( Y_iji'j'k) . L
def Prec2_rule(model,i,j,ii,jj,k):
    if i*3+j<ii*3+jj:
        return model.Stime[i,j,k] >= model.CTime[ii,jj,k] - model.Y[i,j,ii,jj,k] * M 
    else :
        return model.Stime[i,j,k] >= 0


        

model.Constraint8 = Constraint(model.T, model.O, model.T, model.O, model.K, rule = Prec2_rule)
# def Prec2_rule(model,t,o,v,p,k):
#     return model.Stime[t,o,k] >= model.CTime[v,p,k] - (model.Y[t,o,v,p,k])
    
# model.Constraint8 = Constraint(model.T, model.O, model.T, model.O, model.K, rule = Prec2_rule) 


# # Constraint 9 :
# # S_i'j'k >= C_ijk - (1-Y_iji'j'k) . L

# def Prec3_rule(model,t,o,v,p,k):
#     return model.Stime[v,p,k] >= model.CTime[t,o,k] - (1-model.Y[t,o,v,p,k]) * M
    
# model.Constraint9 = Constraint(model.T, model.O, model.T, model.O, model.K, rule = Prec3_rule)



# # Constraint 10 : ########################## CETTE CONTRAINTE N'EST PAS NECESSAIRE SI ON NE CONSIDERE PAS L'OPERATION I DISTINCTEMENT DE LA TACHE J #####################################
# # Y_ijij'k >= P_ijj'   

def Prec4_rule(model,t,o,v,p,k):
    return model.Y[t,o,v,p,k] >= model.Prec[t,o,v,p]

model.Constraint10 = Constraint(model.T, model.O, model.T, model.O, model.K, rule = Prec4_rule)


# def Prec4_ruleB(model,t,o,v,p,k):
#     return model.Yb[t,o,v,p,k] == model.PrecB[t,o,v,p]

# model.Constraint10B = Constraint(model.Tb, model.Ob, model.Ta, model.Oa, model.K, rule = Prec4_ruleB)


# def timeSetZero_rule(model,t,o,k):
#     if value(model.X[t,o,'Co']>=1) :
#         return model.Duration[t,o,'H'] + model.Duration[t,o,'R'] <= 0 
#     else:
#         return model.Duration[t,o,'H'] + model.Duration[t,o,'R'] >= 0
      
# model.Constraint11 = Constraint(model.T, model.O, model.K, rule = timeSetZero_rule)

    
# model.DISJUNCTIONS = Set(initialize = model.Prec * model.K, dimen=5,
#     filter = lambda model, t, o, v, p: [t,o] < [v,p])

# model.disjunctions = Disjunction(model.DISJUNCTIONS, rule=lambda model,t,o,v,p,k:
#     [model.Stime[t,o,k] + model.Duration[t,o,k] <= model.Stime[v,p,k], 
#     model.Stime[v,p,k] + model.Duration[v,p,k] <= model.Stime[t,o,k]])

# %%
############################### AND FONCTION CONTSRAINTS ###############################

# def Stimesupzero_rule(model,j,k):
#     return model.Stime[j,k] >= 0

# model.Constraint11 = Constraint(model.T, model.K, rule = Stimesupzero_rule)

# def CTimesupzero_rule(model,j,k):
#     return model.CTime[j,k] >= 0

# model.Constraint12 = Constraint(model.T, model.K, rule = Stimesupzero_rule)


# %%
data = DataPortal()

# %%
data.load(filename="C:\\Users\\nbouaziz\\Documents\\IJPR\\model\\PyomoFJSPmodel3.dat", model=model)

# %%
instance=model.create_instance(data)
instance.is_constructed()

# %%

# opt = SolverFactory("cbc")
opt = SolverFactory("gurobi", solver_io="python")
# opt = SolverFactory("ipopt")
results = opt.solve(instance)
instance.display()

# %%
# model.Ptime.pprint()
# model.CTime.pprint()
# model.Stime.pprint()
# model.Y.pprint()
# model.X.pprint()
# model.pprint()
# instance.pprint()
pass
# for i in instance.Prec:
#     print(i)


